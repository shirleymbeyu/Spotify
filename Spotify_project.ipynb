{
  "nbformat": 4,
  "nbformat_minor": 0,
  "metadata": {
    "colab": {
      "name": "Spotify_project.ipynb",
      "provenance": [],
      "collapsed_sections": [],
      "toc_visible": true,
      "authorship_tag": "ABX9TyM9S++yfA30f6yvBhri+Ioj",
      "include_colab_link": true
    },
    "kernelspec": {
      "name": "python3",
      "display_name": "Python 3"
    }
  },
  "cells": [
    {
      "cell_type": "markdown",
      "metadata": {
        "id": "view-in-github",
        "colab_type": "text"
      },
      "source": [
        "<a href=\"https://colab.research.google.com/github/shirleymbeyu/Spotify/blob/master/Spotify_project.ipynb\" target=\"_parent\"><img src=\"https://colab.research.google.com/assets/colab-badge.svg\" alt=\"Open In Colab\"/></a>"
      ]
    },
    {
      "cell_type": "markdown",
      "metadata": {
        "id": "MyL8cvdz-rmN",
        "colab_type": "text"
      },
      "source": [
        "# Business Understanding"
      ]
    },
    {
      "cell_type": "markdown",
      "metadata": {
        "id": "nc1z3Xdj88nt",
        "colab_type": "text"
      },
      "source": [
        "# Problem Definition"
      ]
    },
    {
      "cell_type": "markdown",
      "metadata": {
        "id": "R9v05wdL948U",
        "colab_type": "text"
      },
      "source": [
        "\n",
        "Conduct an EDA on the dataset and come up with some data visualisations.\n",
        "\n",
        "Identify popular songs by building a machine learning model that predicts track popularity. Then present the results to the senior management of Spotify. → to increase their revenue\n",
        "\n",
        "Segment tracks on the platform by building a model that segments the tracks. Then present the results to the senior management of Spotify. → To identify a new genre of music.\n"
      ]
    },
    {
      "cell_type": "markdown",
      "metadata": {
        "id": "oL3ps2rE9Hnr",
        "colab_type": "text"
      },
      "source": [
        "# Objectives and Goals"
      ]
    },
    {
      "cell_type": "markdown",
      "metadata": {
        "id": "T9rXiHe_-Uc3",
        "colab_type": "text"
      },
      "source": [
        "To have a data visualization for the data to be used in the project.\n",
        "\n",
        "To identify the most popular song using a machine learning model.\n",
        "\n",
        "To have a track segmentation and to be able to identify a new genre of music.\n"
      ]
    },
    {
      "cell_type": "markdown",
      "metadata": {
        "id": "FrwhYA6b9PLn",
        "colab_type": "text"
      },
      "source": [
        "# Data Sourcing"
      ]
    },
    {
      "cell_type": "code",
      "metadata": {
        "id": "dufQk8878ou-",
        "colab_type": "code",
        "colab": {}
      },
      "source": [
        "#importing the libraries to be used in the project\n",
        "import numpy as np\n",
        "import pandas as pd\n",
        "\n",
        "#libraries to be used for visualization\n",
        "import matplotlib.pyplot as plt \n",
        "% matplotlib inline \n",
        "import seaborn as sb\n"
      ],
      "execution_count": 38,
      "outputs": []
    },
    {
      "cell_type": "code",
      "metadata": {
        "id": "vRgb4aOK_y8h",
        "colab_type": "code",
        "colab": {
          "base_uri": "https://localhost:8080/",
          "height": 513
        },
        "outputId": "f8a90b57-df92-440a-afb4-c202414a3601"
      },
      "source": [
        "#Importing the raw data set \n",
        "link =  'https://bit.ly/SpotifySongsDs' \n",
        "data = pd.read_csv(link)\n",
        "#Reviewing first 5 rows of the data set\n",
        "data[:5]"
      ],
      "execution_count": 39,
      "outputs": [
        {
          "output_type": "execute_result",
          "data": {
            "text/html": [
              "<div>\n",
              "<style scoped>\n",
              "    .dataframe tbody tr th:only-of-type {\n",
              "        vertical-align: middle;\n",
              "    }\n",
              "\n",
              "    .dataframe tbody tr th {\n",
              "        vertical-align: top;\n",
              "    }\n",
              "\n",
              "    .dataframe thead th {\n",
              "        text-align: right;\n",
              "    }\n",
              "</style>\n",
              "<table border=\"1\" class=\"dataframe\">\n",
              "  <thead>\n",
              "    <tr style=\"text-align: right;\">\n",
              "      <th></th>\n",
              "      <th>track_id</th>\n",
              "      <th>track_name</th>\n",
              "      <th>track_artist</th>\n",
              "      <th>track_popularity</th>\n",
              "      <th>track_album_id</th>\n",
              "      <th>track_album_name</th>\n",
              "      <th>track_album_release_date</th>\n",
              "      <th>playlist_name</th>\n",
              "      <th>playlist_id</th>\n",
              "      <th>playlist_genre</th>\n",
              "      <th>playlist_subgenre</th>\n",
              "      <th>danceability</th>\n",
              "      <th>energy</th>\n",
              "      <th>key</th>\n",
              "      <th>loudness</th>\n",
              "      <th>mode</th>\n",
              "      <th>speechiness</th>\n",
              "      <th>acousticness</th>\n",
              "      <th>instrumentalness</th>\n",
              "      <th>liveness</th>\n",
              "      <th>valence</th>\n",
              "      <th>tempo</th>\n",
              "      <th>duration_ms</th>\n",
              "    </tr>\n",
              "  </thead>\n",
              "  <tbody>\n",
              "    <tr>\n",
              "      <th>0</th>\n",
              "      <td>6f807x0ima9a1j3VPbc7VN</td>\n",
              "      <td>I Don't Care (with Justin Bieber) - Loud Luxur...</td>\n",
              "      <td>Ed Sheeran</td>\n",
              "      <td>66</td>\n",
              "      <td>2oCs0DGTsRO98Gh5ZSl2Cx</td>\n",
              "      <td>I Don't Care (with Justin Bieber) [Loud Luxury...</td>\n",
              "      <td>2019-06-14</td>\n",
              "      <td>Pop Remix</td>\n",
              "      <td>37i9dQZF1DXcZDD7cfEKhW</td>\n",
              "      <td>pop</td>\n",
              "      <td>dance pop</td>\n",
              "      <td>0.748</td>\n",
              "      <td>0.916</td>\n",
              "      <td>6</td>\n",
              "      <td>-2.634</td>\n",
              "      <td>1</td>\n",
              "      <td>0.0583</td>\n",
              "      <td>0.1020</td>\n",
              "      <td>0.000000</td>\n",
              "      <td>0.0653</td>\n",
              "      <td>0.518</td>\n",
              "      <td>122.036</td>\n",
              "      <td>194754</td>\n",
              "    </tr>\n",
              "    <tr>\n",
              "      <th>1</th>\n",
              "      <td>0r7CVbZTWZgbTCYdfa2P31</td>\n",
              "      <td>Memories - Dillon Francis Remix</td>\n",
              "      <td>Maroon 5</td>\n",
              "      <td>67</td>\n",
              "      <td>63rPSO264uRjW1X5E6cWv6</td>\n",
              "      <td>Memories (Dillon Francis Remix)</td>\n",
              "      <td>2019-12-13</td>\n",
              "      <td>Pop Remix</td>\n",
              "      <td>37i9dQZF1DXcZDD7cfEKhW</td>\n",
              "      <td>pop</td>\n",
              "      <td>dance pop</td>\n",
              "      <td>0.726</td>\n",
              "      <td>0.815</td>\n",
              "      <td>11</td>\n",
              "      <td>-4.969</td>\n",
              "      <td>1</td>\n",
              "      <td>0.0373</td>\n",
              "      <td>0.0724</td>\n",
              "      <td>0.004210</td>\n",
              "      <td>0.3570</td>\n",
              "      <td>0.693</td>\n",
              "      <td>99.972</td>\n",
              "      <td>162600</td>\n",
              "    </tr>\n",
              "    <tr>\n",
              "      <th>2</th>\n",
              "      <td>1z1Hg7Vb0AhHDiEmnDE79l</td>\n",
              "      <td>All the Time - Don Diablo Remix</td>\n",
              "      <td>Zara Larsson</td>\n",
              "      <td>70</td>\n",
              "      <td>1HoSmj2eLcsrR0vE9gThr4</td>\n",
              "      <td>All the Time (Don Diablo Remix)</td>\n",
              "      <td>2019-07-05</td>\n",
              "      <td>Pop Remix</td>\n",
              "      <td>37i9dQZF1DXcZDD7cfEKhW</td>\n",
              "      <td>pop</td>\n",
              "      <td>dance pop</td>\n",
              "      <td>0.675</td>\n",
              "      <td>0.931</td>\n",
              "      <td>1</td>\n",
              "      <td>-3.432</td>\n",
              "      <td>0</td>\n",
              "      <td>0.0742</td>\n",
              "      <td>0.0794</td>\n",
              "      <td>0.000023</td>\n",
              "      <td>0.1100</td>\n",
              "      <td>0.613</td>\n",
              "      <td>124.008</td>\n",
              "      <td>176616</td>\n",
              "    </tr>\n",
              "    <tr>\n",
              "      <th>3</th>\n",
              "      <td>75FpbthrwQmzHlBJLuGdC7</td>\n",
              "      <td>Call You Mine - Keanu Silva Remix</td>\n",
              "      <td>The Chainsmokers</td>\n",
              "      <td>60</td>\n",
              "      <td>1nqYsOef1yKKuGOVchbsk6</td>\n",
              "      <td>Call You Mine - The Remixes</td>\n",
              "      <td>2019-07-19</td>\n",
              "      <td>Pop Remix</td>\n",
              "      <td>37i9dQZF1DXcZDD7cfEKhW</td>\n",
              "      <td>pop</td>\n",
              "      <td>dance pop</td>\n",
              "      <td>0.718</td>\n",
              "      <td>0.930</td>\n",
              "      <td>7</td>\n",
              "      <td>-3.778</td>\n",
              "      <td>1</td>\n",
              "      <td>0.1020</td>\n",
              "      <td>0.0287</td>\n",
              "      <td>0.000009</td>\n",
              "      <td>0.2040</td>\n",
              "      <td>0.277</td>\n",
              "      <td>121.956</td>\n",
              "      <td>169093</td>\n",
              "    </tr>\n",
              "    <tr>\n",
              "      <th>4</th>\n",
              "      <td>1e8PAfcKUYoKkxPhrHqw4x</td>\n",
              "      <td>Someone You Loved - Future Humans Remix</td>\n",
              "      <td>Lewis Capaldi</td>\n",
              "      <td>69</td>\n",
              "      <td>7m7vv9wlQ4i0LFuJiE2zsQ</td>\n",
              "      <td>Someone You Loved (Future Humans Remix)</td>\n",
              "      <td>2019-03-05</td>\n",
              "      <td>Pop Remix</td>\n",
              "      <td>37i9dQZF1DXcZDD7cfEKhW</td>\n",
              "      <td>pop</td>\n",
              "      <td>dance pop</td>\n",
              "      <td>0.650</td>\n",
              "      <td>0.833</td>\n",
              "      <td>1</td>\n",
              "      <td>-4.672</td>\n",
              "      <td>1</td>\n",
              "      <td>0.0359</td>\n",
              "      <td>0.0803</td>\n",
              "      <td>0.000000</td>\n",
              "      <td>0.0833</td>\n",
              "      <td>0.725</td>\n",
              "      <td>123.976</td>\n",
              "      <td>189052</td>\n",
              "    </tr>\n",
              "  </tbody>\n",
              "</table>\n",
              "</div>"
            ],
            "text/plain": [
              "                 track_id  ... duration_ms\n",
              "0  6f807x0ima9a1j3VPbc7VN  ...      194754\n",
              "1  0r7CVbZTWZgbTCYdfa2P31  ...      162600\n",
              "2  1z1Hg7Vb0AhHDiEmnDE79l  ...      176616\n",
              "3  75FpbthrwQmzHlBJLuGdC7  ...      169093\n",
              "4  1e8PAfcKUYoKkxPhrHqw4x  ...      189052\n",
              "\n",
              "[5 rows x 23 columns]"
            ]
          },
          "metadata": {
            "tags": []
          },
          "execution_count": 39
        }
      ]
    },
    {
      "cell_type": "code",
      "metadata": {
        "id": "_1tnHdOLAjB2",
        "colab_type": "code",
        "colab": {
          "base_uri": "https://localhost:8080/",
          "height": 762
        },
        "outputId": "dcdbd1a9-c643-418a-955b-21b6cd559be1"
      },
      "source": [
        "#Importing the glossary data                                                                           \n",
        "glossary = pd.read_csv('spotify_glossary.csv')\n",
        "glossary"
      ],
      "execution_count": 40,
      "outputs": [
        {
          "output_type": "execute_result",
          "data": {
            "text/html": [
              "<div>\n",
              "<style scoped>\n",
              "    .dataframe tbody tr th:only-of-type {\n",
              "        vertical-align: middle;\n",
              "    }\n",
              "\n",
              "    .dataframe tbody tr th {\n",
              "        vertical-align: top;\n",
              "    }\n",
              "\n",
              "    .dataframe thead th {\n",
              "        text-align: right;\n",
              "    }\n",
              "</style>\n",
              "<table border=\"1\" class=\"dataframe\">\n",
              "  <thead>\n",
              "    <tr style=\"text-align: right;\">\n",
              "      <th></th>\n",
              "      <th>Variable</th>\n",
              "      <th>class</th>\n",
              "      <th>description</th>\n",
              "    </tr>\n",
              "  </thead>\n",
              "  <tbody>\n",
              "    <tr>\n",
              "      <th>0</th>\n",
              "      <td>track_id</td>\n",
              "      <td>str</td>\n",
              "      <td>Song unique ID</td>\n",
              "    </tr>\n",
              "    <tr>\n",
              "      <th>1</th>\n",
              "      <td>track_name</td>\n",
              "      <td>str</td>\n",
              "      <td>Song Name</td>\n",
              "    </tr>\n",
              "    <tr>\n",
              "      <th>2</th>\n",
              "      <td>track_artist</td>\n",
              "      <td>str</td>\n",
              "      <td>Song Artist</td>\n",
              "    </tr>\n",
              "    <tr>\n",
              "      <th>3</th>\n",
              "      <td>track_popularity</td>\n",
              "      <td>float</td>\n",
              "      <td>Song Popularity (0-100) where higher is better</td>\n",
              "    </tr>\n",
              "    <tr>\n",
              "      <th>4</th>\n",
              "      <td>track_album_id</td>\n",
              "      <td>str</td>\n",
              "      <td>Album unique ID</td>\n",
              "    </tr>\n",
              "    <tr>\n",
              "      <th>5</th>\n",
              "      <td>track_album_name</td>\n",
              "      <td>str</td>\n",
              "      <td>Song album name</td>\n",
              "    </tr>\n",
              "    <tr>\n",
              "      <th>6</th>\n",
              "      <td>track_album_release_date</td>\n",
              "      <td>str</td>\n",
              "      <td>Date when album released</td>\n",
              "    </tr>\n",
              "    <tr>\n",
              "      <th>7</th>\n",
              "      <td>playlist_name</td>\n",
              "      <td>str</td>\n",
              "      <td>Name of playlist</td>\n",
              "    </tr>\n",
              "    <tr>\n",
              "      <th>8</th>\n",
              "      <td>playlist_id</td>\n",
              "      <td>str</td>\n",
              "      <td>Playlist ID</td>\n",
              "    </tr>\n",
              "    <tr>\n",
              "      <th>9</th>\n",
              "      <td>playlist_genre</td>\n",
              "      <td>str</td>\n",
              "      <td>Playlist genre</td>\n",
              "    </tr>\n",
              "    <tr>\n",
              "      <th>10</th>\n",
              "      <td>playlist_subgenre</td>\n",
              "      <td>str</td>\n",
              "      <td>Playlist subgenre</td>\n",
              "    </tr>\n",
              "    <tr>\n",
              "      <th>11</th>\n",
              "      <td>danceability</td>\n",
              "      <td>float</td>\n",
              "      <td>Danceability describes how suitable a track is...</td>\n",
              "    </tr>\n",
              "    <tr>\n",
              "      <th>12</th>\n",
              "      <td>Energy</td>\n",
              "      <td>float</td>\n",
              "      <td>Energy is a measure from 0.0 to 1.0 and repres...</td>\n",
              "    </tr>\n",
              "    <tr>\n",
              "      <th>13</th>\n",
              "      <td>Key</td>\n",
              "      <td>float</td>\n",
              "      <td>The estimated overall key of the track. Intege...</td>\n",
              "    </tr>\n",
              "    <tr>\n",
              "      <th>14</th>\n",
              "      <td>Loudness</td>\n",
              "      <td>float</td>\n",
              "      <td>The overall loudness of a track in decibels (d...</td>\n",
              "    </tr>\n",
              "    <tr>\n",
              "      <th>15</th>\n",
              "      <td>Mode</td>\n",
              "      <td>float</td>\n",
              "      <td>Mode indicates the modality (major or minor) o...</td>\n",
              "    </tr>\n",
              "    <tr>\n",
              "      <th>16</th>\n",
              "      <td>Speechiness</td>\n",
              "      <td>float</td>\n",
              "      <td>Speechiness detects the presence of spoken wor...</td>\n",
              "    </tr>\n",
              "    <tr>\n",
              "      <th>17</th>\n",
              "      <td>Acousticness</td>\n",
              "      <td>float</td>\n",
              "      <td>A confidence measure from 0.0 to 1.0 of whethe...</td>\n",
              "    </tr>\n",
              "    <tr>\n",
              "      <th>18</th>\n",
              "      <td>Instrumentalness</td>\n",
              "      <td>float</td>\n",
              "      <td>Predicts whether a track contains no vocals. “...</td>\n",
              "    </tr>\n",
              "    <tr>\n",
              "      <th>19</th>\n",
              "      <td>Liveness</td>\n",
              "      <td>float</td>\n",
              "      <td>Detects the presence of an audience in the rec...</td>\n",
              "    </tr>\n",
              "    <tr>\n",
              "      <th>20</th>\n",
              "      <td>Valence</td>\n",
              "      <td>float</td>\n",
              "      <td>A measure from 0.0 to 1.0 describing the music...</td>\n",
              "    </tr>\n",
              "    <tr>\n",
              "      <th>21</th>\n",
              "      <td>Tempo</td>\n",
              "      <td>float</td>\n",
              "      <td>The overall estimated tempo of a track in beat...</td>\n",
              "    </tr>\n",
              "    <tr>\n",
              "      <th>22</th>\n",
              "      <td>duration_ms</td>\n",
              "      <td>float</td>\n",
              "      <td>Duration of song in milliseconds</td>\n",
              "    </tr>\n",
              "  </tbody>\n",
              "</table>\n",
              "</div>"
            ],
            "text/plain": [
              "                    Variable  ...                                        description\n",
              "0                   track_id  ...                                     Song unique ID\n",
              "1                 track_name  ...                                          Song Name\n",
              "2               track_artist  ...                                        Song Artist\n",
              "3           track_popularity  ...     Song Popularity (0-100) where higher is better\n",
              "4             track_album_id  ...                                    Album unique ID\n",
              "5           track_album_name  ...                                    Song album name\n",
              "6   track_album_release_date  ...                           Date when album released\n",
              "7              playlist_name  ...                                   Name of playlist\n",
              "8                playlist_id  ...                                        Playlist ID\n",
              "9             playlist_genre  ...                                     Playlist genre\n",
              "10         playlist_subgenre  ...                                  Playlist subgenre\n",
              "11              danceability  ...  Danceability describes how suitable a track is...\n",
              "12                    Energy  ...  Energy is a measure from 0.0 to 1.0 and repres...\n",
              "13                       Key  ...  The estimated overall key of the track. Intege...\n",
              "14                  Loudness  ...  The overall loudness of a track in decibels (d...\n",
              "15                      Mode  ...  Mode indicates the modality (major or minor) o...\n",
              "16               Speechiness  ...  Speechiness detects the presence of spoken wor...\n",
              "17              Acousticness  ...  A confidence measure from 0.0 to 1.0 of whethe...\n",
              "18          Instrumentalness  ...  Predicts whether a track contains no vocals. “...\n",
              "19                  Liveness  ...  Detects the presence of an audience in the rec...\n",
              "20                   Valence  ...  A measure from 0.0 to 1.0 describing the music...\n",
              "21                     Tempo  ...  The overall estimated tempo of a track in beat...\n",
              "22               duration_ms  ...                   Duration of song in milliseconds\n",
              "\n",
              "[23 rows x 3 columns]"
            ]
          },
          "metadata": {
            "tags": []
          },
          "execution_count": 40
        }
      ]
    },
    {
      "cell_type": "markdown",
      "metadata": {
        "id": "zYH9YFr2BYsG",
        "colab_type": "text"
      },
      "source": [
        " # Data Understanding"
      ]
    },
    {
      "cell_type": "markdown",
      "metadata": {
        "id": "ITVvwHLe9VtZ",
        "colab_type": "text"
      },
      "source": [
        "# Data Prepraration"
      ]
    },
    {
      "cell_type": "code",
      "metadata": {
        "id": "eQu7O_LAA0gj",
        "colab_type": "code",
        "colab": {
          "base_uri": "https://localhost:8080/",
          "height": 34
        },
        "outputId": "612ecac1-db20-40a6-b548-4021af030eb3"
      },
      "source": [
        "#Getting the shape of the initial data set\n",
        "data.shape"
      ],
      "execution_count": 41,
      "outputs": [
        {
          "output_type": "execute_result",
          "data": {
            "text/plain": [
              "(32833, 23)"
            ]
          },
          "metadata": {
            "tags": []
          },
          "execution_count": 41
        }
      ]
    },
    {
      "cell_type": "code",
      "metadata": {
        "id": "lrNeQy1zAoja",
        "colab_type": "code",
        "colab": {
          "base_uri": "https://localhost:8080/",
          "height": 527
        },
        "outputId": "e7332dd4-1816-45fd-fb81-6182ec6976e4"
      },
      "source": [
        "#getting the information on the data set\n",
        "data.info()"
      ],
      "execution_count": 42,
      "outputs": [
        {
          "output_type": "stream",
          "text": [
            "<class 'pandas.core.frame.DataFrame'>\n",
            "RangeIndex: 32833 entries, 0 to 32832\n",
            "Data columns (total 23 columns):\n",
            " #   Column                    Non-Null Count  Dtype  \n",
            "---  ------                    --------------  -----  \n",
            " 0   track_id                  32833 non-null  object \n",
            " 1   track_name                32828 non-null  object \n",
            " 2   track_artist              32828 non-null  object \n",
            " 3   track_popularity          32833 non-null  int64  \n",
            " 4   track_album_id            32833 non-null  object \n",
            " 5   track_album_name          32828 non-null  object \n",
            " 6   track_album_release_date  32833 non-null  object \n",
            " 7   playlist_name             32833 non-null  object \n",
            " 8   playlist_id               32833 non-null  object \n",
            " 9   playlist_genre            32833 non-null  object \n",
            " 10  playlist_subgenre         32833 non-null  object \n",
            " 11  danceability              32833 non-null  float64\n",
            " 12  energy                    32833 non-null  float64\n",
            " 13  key                       32833 non-null  int64  \n",
            " 14  loudness                  32833 non-null  float64\n",
            " 15  mode                      32833 non-null  int64  \n",
            " 16  speechiness               32833 non-null  float64\n",
            " 17  acousticness              32833 non-null  float64\n",
            " 18  instrumentalness          32833 non-null  float64\n",
            " 19  liveness                  32833 non-null  float64\n",
            " 20  valence                   32833 non-null  float64\n",
            " 21  tempo                     32833 non-null  float64\n",
            " 22  duration_ms               32833 non-null  int64  \n",
            "dtypes: float64(9), int64(4), object(10)\n",
            "memory usage: 5.8+ MB\n"
          ],
          "name": "stdout"
        }
      ]
    },
    {
      "cell_type": "markdown",
      "metadata": {
        "id": "M8lS2ANf9cuX",
        "colab_type": "text"
      },
      "source": [
        "# Data cleaning"
      ]
    },
    {
      "cell_type": "code",
      "metadata": {
        "id": "Wxjs2_6JwxmB",
        "colab_type": "code",
        "colab": {
          "base_uri": "https://localhost:8080/",
          "height": 513
        },
        "outputId": "29d4e9a7-3c85-4109-d616-5e46b7150a68"
      },
      "source": [
        "#removing column attributes we won't be needing for  our analysisD\n",
        "droped =data.drop(['track_id', 'track_album_id', 'track_album_name', 'playlist_name', 'playlist_id', 'playlist_genre', 'playlist_subgenre'], axis = 1)\n",
        "droped[:5]"
      ],
      "execution_count": 43,
      "outputs": [
        {
          "output_type": "execute_result",
          "data": {
            "text/html": [
              "<div>\n",
              "<style scoped>\n",
              "    .dataframe tbody tr th:only-of-type {\n",
              "        vertical-align: middle;\n",
              "    }\n",
              "\n",
              "    .dataframe tbody tr th {\n",
              "        vertical-align: top;\n",
              "    }\n",
              "\n",
              "    .dataframe thead th {\n",
              "        text-align: right;\n",
              "    }\n",
              "</style>\n",
              "<table border=\"1\" class=\"dataframe\">\n",
              "  <thead>\n",
              "    <tr style=\"text-align: right;\">\n",
              "      <th></th>\n",
              "      <th>track_name</th>\n",
              "      <th>track_artist</th>\n",
              "      <th>track_popularity</th>\n",
              "      <th>track_album_release_date</th>\n",
              "      <th>danceability</th>\n",
              "      <th>energy</th>\n",
              "      <th>key</th>\n",
              "      <th>loudness</th>\n",
              "      <th>mode</th>\n",
              "      <th>speechiness</th>\n",
              "      <th>acousticness</th>\n",
              "      <th>instrumentalness</th>\n",
              "      <th>liveness</th>\n",
              "      <th>valence</th>\n",
              "      <th>tempo</th>\n",
              "      <th>duration_ms</th>\n",
              "    </tr>\n",
              "  </thead>\n",
              "  <tbody>\n",
              "    <tr>\n",
              "      <th>0</th>\n",
              "      <td>I Don't Care (with Justin Bieber) - Loud Luxur...</td>\n",
              "      <td>Ed Sheeran</td>\n",
              "      <td>66</td>\n",
              "      <td>2019-06-14</td>\n",
              "      <td>0.748</td>\n",
              "      <td>0.916</td>\n",
              "      <td>6</td>\n",
              "      <td>-2.634</td>\n",
              "      <td>1</td>\n",
              "      <td>0.0583</td>\n",
              "      <td>0.1020</td>\n",
              "      <td>0.000000</td>\n",
              "      <td>0.0653</td>\n",
              "      <td>0.518</td>\n",
              "      <td>122.036</td>\n",
              "      <td>194754</td>\n",
              "    </tr>\n",
              "    <tr>\n",
              "      <th>1</th>\n",
              "      <td>Memories - Dillon Francis Remix</td>\n",
              "      <td>Maroon 5</td>\n",
              "      <td>67</td>\n",
              "      <td>2019-12-13</td>\n",
              "      <td>0.726</td>\n",
              "      <td>0.815</td>\n",
              "      <td>11</td>\n",
              "      <td>-4.969</td>\n",
              "      <td>1</td>\n",
              "      <td>0.0373</td>\n",
              "      <td>0.0724</td>\n",
              "      <td>0.004210</td>\n",
              "      <td>0.3570</td>\n",
              "      <td>0.693</td>\n",
              "      <td>99.972</td>\n",
              "      <td>162600</td>\n",
              "    </tr>\n",
              "    <tr>\n",
              "      <th>2</th>\n",
              "      <td>All the Time - Don Diablo Remix</td>\n",
              "      <td>Zara Larsson</td>\n",
              "      <td>70</td>\n",
              "      <td>2019-07-05</td>\n",
              "      <td>0.675</td>\n",
              "      <td>0.931</td>\n",
              "      <td>1</td>\n",
              "      <td>-3.432</td>\n",
              "      <td>0</td>\n",
              "      <td>0.0742</td>\n",
              "      <td>0.0794</td>\n",
              "      <td>0.000023</td>\n",
              "      <td>0.1100</td>\n",
              "      <td>0.613</td>\n",
              "      <td>124.008</td>\n",
              "      <td>176616</td>\n",
              "    </tr>\n",
              "    <tr>\n",
              "      <th>3</th>\n",
              "      <td>Call You Mine - Keanu Silva Remix</td>\n",
              "      <td>The Chainsmokers</td>\n",
              "      <td>60</td>\n",
              "      <td>2019-07-19</td>\n",
              "      <td>0.718</td>\n",
              "      <td>0.930</td>\n",
              "      <td>7</td>\n",
              "      <td>-3.778</td>\n",
              "      <td>1</td>\n",
              "      <td>0.1020</td>\n",
              "      <td>0.0287</td>\n",
              "      <td>0.000009</td>\n",
              "      <td>0.2040</td>\n",
              "      <td>0.277</td>\n",
              "      <td>121.956</td>\n",
              "      <td>169093</td>\n",
              "    </tr>\n",
              "    <tr>\n",
              "      <th>4</th>\n",
              "      <td>Someone You Loved - Future Humans Remix</td>\n",
              "      <td>Lewis Capaldi</td>\n",
              "      <td>69</td>\n",
              "      <td>2019-03-05</td>\n",
              "      <td>0.650</td>\n",
              "      <td>0.833</td>\n",
              "      <td>1</td>\n",
              "      <td>-4.672</td>\n",
              "      <td>1</td>\n",
              "      <td>0.0359</td>\n",
              "      <td>0.0803</td>\n",
              "      <td>0.000000</td>\n",
              "      <td>0.0833</td>\n",
              "      <td>0.725</td>\n",
              "      <td>123.976</td>\n",
              "      <td>189052</td>\n",
              "    </tr>\n",
              "  </tbody>\n",
              "</table>\n",
              "</div>"
            ],
            "text/plain": [
              "                                          track_name  ... duration_ms\n",
              "0  I Don't Care (with Justin Bieber) - Loud Luxur...  ...      194754\n",
              "1                    Memories - Dillon Francis Remix  ...      162600\n",
              "2                    All the Time - Don Diablo Remix  ...      176616\n",
              "3                  Call You Mine - Keanu Silva Remix  ...      169093\n",
              "4            Someone You Loved - Future Humans Remix  ...      189052\n",
              "\n",
              "[5 rows x 16 columns]"
            ]
          },
          "metadata": {
            "tags": []
          },
          "execution_count": 43
        }
      ]
    },
    {
      "cell_type": "code",
      "metadata": {
        "id": "6k7_CCZzlr0f",
        "colab_type": "code",
        "colab": {
          "base_uri": "https://localhost:8080/",
          "height": 51
        },
        "outputId": "6b850535-865f-45da-f8df-ba601a90799f"
      },
      "source": [
        "# Extract the month from the track release date. \n",
        "\n",
        "#first changing the format of the release date column to year-month-date\n",
        "droped['track_album_release_date'] = pd.to_datetime(droped['track_album_release_date'], format='%Y-%m-%d')\n",
        "\n",
        "#creating a new column to hold only the months of release\n",
        "droped['year'] = pd.DatetimeIndex(droped['track_album_release_date']).year\n",
        "droped['month'] = pd.DatetimeIndex(droped['track_album_release_date']).month\n",
        "droped\n",
        "\n",
        "#Checking the data types of the year and month column\n",
        "print(droped.year.dtypes)\n",
        "print(droped.month.dtypes)\n"
      ],
      "execution_count": 44,
      "outputs": [
        {
          "output_type": "stream",
          "text": [
            "int64\n",
            "int64\n"
          ],
          "name": "stdout"
        }
      ]
    },
    {
      "cell_type": "code",
      "metadata": {
        "id": "Hvxf-qvHDefR",
        "colab_type": "code",
        "colab": {}
      },
      "source": [
        "#Converting duration to minutes\n",
        "def function_2(row):\n",
        "    return row['duration_ms'] / 60000\n",
        "\n",
        "droped['duration_min'] = droped.apply(lambda row: function_2(row), axis=1)\n",
        "\n",
        "#dropping the column with the duration in miliseconds\n",
        "spotify = droped.drop('duration_ms', axis=1)"
      ],
      "execution_count": 45,
      "outputs": []
    },
    {
      "cell_type": "code",
      "metadata": {
        "id": "f3W1I5dg0THC",
        "colab_type": "code",
        "colab": {
          "base_uri": "https://localhost:8080/",
          "height": 34
        },
        "outputId": "b7708848-3ad1-425d-8fe0-ffb0a02d784e"
      },
      "source": [
        "#Checking the number of duplicate observations in our data set\n",
        "spotify.duplicated().sum()"
      ],
      "execution_count": 46,
      "outputs": [
        {
          "output_type": "execute_result",
          "data": {
            "text/plain": [
              "4484"
            ]
          },
          "metadata": {
            "tags": []
          },
          "execution_count": 46
        }
      ]
    },
    {
      "cell_type": "markdown",
      "metadata": {
        "id": "S2YPlT15tl2s",
        "colab_type": "text"
      },
      "source": [
        "There seems to be 4,484 duplicate values in our data set which adds up to 13.66% of our data set. This is a relatively huge number to drop but keeping it will also reduce the accurcay of our analysis. \n",
        "\n",
        "Therefore I will drop them and work with the remaining 86.34%"
      ]
    },
    {
      "cell_type": "code",
      "metadata": {
        "id": "ya-su8OcuZjk",
        "colab_type": "code",
        "colab": {
          "base_uri": "https://localhost:8080/",
          "height": 34
        },
        "outputId": "79a319dd-0cf0-4e2e-944e-107198ffbd6d"
      },
      "source": [
        "spotify.drop_duplicates(inplace = True)\n",
        "spotify.shape"
      ],
      "execution_count": 47,
      "outputs": [
        {
          "output_type": "execute_result",
          "data": {
            "text/plain": [
              "(28349, 18)"
            ]
          },
          "metadata": {
            "tags": []
          },
          "execution_count": 47
        }
      ]
    },
    {
      "cell_type": "code",
      "metadata": {
        "id": "lYQfxdbrLJhF",
        "colab_type": "code",
        "colab": {
          "base_uri": "https://localhost:8080/",
          "height": 340
        },
        "outputId": "8f0d30b6-7d9c-4ce6-c077-dce1dd17a6e7"
      },
      "source": [
        "spotify.isna().sum()"
      ],
      "execution_count": 48,
      "outputs": [
        {
          "output_type": "execute_result",
          "data": {
            "text/plain": [
              "track_name                  4\n",
              "track_artist                4\n",
              "track_popularity            0\n",
              "track_album_release_date    0\n",
              "danceability                0\n",
              "energy                      0\n",
              "key                         0\n",
              "loudness                    0\n",
              "mode                        0\n",
              "speechiness                 0\n",
              "acousticness                0\n",
              "instrumentalness            0\n",
              "liveness                    0\n",
              "valence                     0\n",
              "tempo                       0\n",
              "year                        0\n",
              "month                       0\n",
              "duration_min                0\n",
              "dtype: int64"
            ]
          },
          "metadata": {
            "tags": []
          },
          "execution_count": 48
        }
      ]
    },
    {
      "cell_type": "markdown",
      "metadata": {
        "id": "B0NMIHDBbBvC",
        "colab_type": "text"
      },
      "source": [
        "There were 4 rows with missing track_name and and artist_name. These wer not dropped since they ahd no huge impact on our analysis.\n",
        "\n"
      ]
    },
    {
      "cell_type": "code",
      "metadata": {
        "id": "kVlYKcEZrGYN",
        "colab_type": "code",
        "colab": {}
      },
      "source": [
        "#Finally I will export my cleaned data set that is ready for analysis\n",
        "spotify.to_csv('spotify_df.csv', index=False)"
      ],
      "execution_count": 49,
      "outputs": []
    },
    {
      "cell_type": "markdown",
      "metadata": {
        "id": "JbQN_TuG9gVm",
        "colab_type": "text"
      },
      "source": [
        "# Data analysis"
      ]
    },
    {
      "cell_type": "markdown",
      "metadata": {
        "id": "EoweWg7zrjas",
        "colab_type": "text"
      },
      "source": [
        "In my analysis I will work with my cleaned data set"
      ]
    },
    {
      "cell_type": "code",
      "metadata": {
        "id": "7u4LGLX7rprW",
        "colab_type": "code",
        "colab": {}
      },
      "source": [
        "df = pd.read_csv('spotify_df.csv')"
      ],
      "execution_count": 50,
      "outputs": []
    },
    {
      "cell_type": "markdown",
      "metadata": {
        "id": "GA-APJd8qKMI",
        "colab_type": "text"
      },
      "source": [
        "First I will make a data frame of my continuous variables that range from 0.0-1.0 separate so as to analyze them together"
      ]
    },
    {
      "cell_type": "code",
      "metadata": {
        "id": "7Poz7B4qqJVL",
        "colab_type": "code",
        "colab": {
          "base_uri": "https://localhost:8080/",
          "height": 419
        },
        "outputId": "8d5855ef-ca73-4de1-f249-efa797e820cf"
      },
      "source": [
        "cont = df[['danceability', 'energy', 'speechiness', 'acousticness', 'instrumentalness', 'valence']]\n",
        "cont"
      ],
      "execution_count": 51,
      "outputs": [
        {
          "output_type": "execute_result",
          "data": {
            "text/html": [
              "<div>\n",
              "<style scoped>\n",
              "    .dataframe tbody tr th:only-of-type {\n",
              "        vertical-align: middle;\n",
              "    }\n",
              "\n",
              "    .dataframe tbody tr th {\n",
              "        vertical-align: top;\n",
              "    }\n",
              "\n",
              "    .dataframe thead th {\n",
              "        text-align: right;\n",
              "    }\n",
              "</style>\n",
              "<table border=\"1\" class=\"dataframe\">\n",
              "  <thead>\n",
              "    <tr style=\"text-align: right;\">\n",
              "      <th></th>\n",
              "      <th>danceability</th>\n",
              "      <th>energy</th>\n",
              "      <th>speechiness</th>\n",
              "      <th>acousticness</th>\n",
              "      <th>instrumentalness</th>\n",
              "      <th>valence</th>\n",
              "    </tr>\n",
              "  </thead>\n",
              "  <tbody>\n",
              "    <tr>\n",
              "      <th>0</th>\n",
              "      <td>0.748</td>\n",
              "      <td>0.916</td>\n",
              "      <td>0.0583</td>\n",
              "      <td>0.102000</td>\n",
              "      <td>0.000000</td>\n",
              "      <td>0.5180</td>\n",
              "    </tr>\n",
              "    <tr>\n",
              "      <th>1</th>\n",
              "      <td>0.726</td>\n",
              "      <td>0.815</td>\n",
              "      <td>0.0373</td>\n",
              "      <td>0.072400</td>\n",
              "      <td>0.004210</td>\n",
              "      <td>0.6930</td>\n",
              "    </tr>\n",
              "    <tr>\n",
              "      <th>2</th>\n",
              "      <td>0.675</td>\n",
              "      <td>0.931</td>\n",
              "      <td>0.0742</td>\n",
              "      <td>0.079400</td>\n",
              "      <td>0.000023</td>\n",
              "      <td>0.6130</td>\n",
              "    </tr>\n",
              "    <tr>\n",
              "      <th>3</th>\n",
              "      <td>0.718</td>\n",
              "      <td>0.930</td>\n",
              "      <td>0.1020</td>\n",
              "      <td>0.028700</td>\n",
              "      <td>0.000009</td>\n",
              "      <td>0.2770</td>\n",
              "    </tr>\n",
              "    <tr>\n",
              "      <th>4</th>\n",
              "      <td>0.650</td>\n",
              "      <td>0.833</td>\n",
              "      <td>0.0359</td>\n",
              "      <td>0.080300</td>\n",
              "      <td>0.000000</td>\n",
              "      <td>0.7250</td>\n",
              "    </tr>\n",
              "    <tr>\n",
              "      <th>...</th>\n",
              "      <td>...</td>\n",
              "      <td>...</td>\n",
              "      <td>...</td>\n",
              "      <td>...</td>\n",
              "      <td>...</td>\n",
              "      <td>...</td>\n",
              "    </tr>\n",
              "    <tr>\n",
              "      <th>28344</th>\n",
              "      <td>0.428</td>\n",
              "      <td>0.922</td>\n",
              "      <td>0.0936</td>\n",
              "      <td>0.076600</td>\n",
              "      <td>0.000000</td>\n",
              "      <td>0.2100</td>\n",
              "    </tr>\n",
              "    <tr>\n",
              "      <th>28345</th>\n",
              "      <td>0.522</td>\n",
              "      <td>0.786</td>\n",
              "      <td>0.0420</td>\n",
              "      <td>0.001710</td>\n",
              "      <td>0.004270</td>\n",
              "      <td>0.4000</td>\n",
              "    </tr>\n",
              "    <tr>\n",
              "      <th>28346</th>\n",
              "      <td>0.529</td>\n",
              "      <td>0.821</td>\n",
              "      <td>0.0481</td>\n",
              "      <td>0.108000</td>\n",
              "      <td>0.000001</td>\n",
              "      <td>0.4360</td>\n",
              "    </tr>\n",
              "    <tr>\n",
              "      <th>28347</th>\n",
              "      <td>0.626</td>\n",
              "      <td>0.888</td>\n",
              "      <td>0.1090</td>\n",
              "      <td>0.007920</td>\n",
              "      <td>0.127000</td>\n",
              "      <td>0.3080</td>\n",
              "    </tr>\n",
              "    <tr>\n",
              "      <th>28348</th>\n",
              "      <td>0.603</td>\n",
              "      <td>0.884</td>\n",
              "      <td>0.0385</td>\n",
              "      <td>0.000133</td>\n",
              "      <td>0.341000</td>\n",
              "      <td>0.0894</td>\n",
              "    </tr>\n",
              "  </tbody>\n",
              "</table>\n",
              "<p>28349 rows × 6 columns</p>\n",
              "</div>"
            ],
            "text/plain": [
              "       danceability  energy  ...  instrumentalness  valence\n",
              "0             0.748   0.916  ...          0.000000   0.5180\n",
              "1             0.726   0.815  ...          0.004210   0.6930\n",
              "2             0.675   0.931  ...          0.000023   0.6130\n",
              "3             0.718   0.930  ...          0.000009   0.2770\n",
              "4             0.650   0.833  ...          0.000000   0.7250\n",
              "...             ...     ...  ...               ...      ...\n",
              "28344         0.428   0.922  ...          0.000000   0.2100\n",
              "28345         0.522   0.786  ...          0.004270   0.4000\n",
              "28346         0.529   0.821  ...          0.000001   0.4360\n",
              "28347         0.626   0.888  ...          0.127000   0.3080\n",
              "28348         0.603   0.884  ...          0.341000   0.0894\n",
              "\n",
              "[28349 rows x 6 columns]"
            ]
          },
          "metadata": {
            "tags": []
          },
          "execution_count": 51
        }
      ]
    },
    {
      "cell_type": "code",
      "metadata": {
        "id": "_e4EavGq01LA",
        "colab_type": "code",
        "colab": {
          "base_uri": "https://localhost:8080/",
          "height": 354
        },
        "outputId": "84980aec-a02d-45f9-8c67-cb013df41388"
      },
      "source": [
        "cont_bplot = cont.boxplot(figsize = (10,5), grid = False)\n",
        "cont_bplot.axes.set_title(\"continuous variable analysis\", fontsize=14)\n",
        "\n"
      ],
      "execution_count": 52,
      "outputs": [
        {
          "output_type": "execute_result",
          "data": {
            "text/plain": [
              "Text(0.5, 1.0, 'continuous variable analysis')"
            ]
          },
          "metadata": {
            "tags": []
          },
          "execution_count": 52
        },
        {
          "output_type": "display_data",
          "data": {
            "image/png": "[encoded data removed]",
            "text/plain": [
              "<Figure size 720x360 with 1 Axes>"
            ]
          },
          "metadata": {
            "tags": [],
            "needs_background": "light"
          }
        }
      ]
    },
    {
      "cell_type": "markdown",
      "metadata": {
        "id": "XjMgU1sn5n8P",
        "colab_type": "text"
      },
      "source": [
        "From the above analysis there seems to be numerous outliers in the continuous variables. Though these can't really be termed as outliers because thy all affect the songs differently.\n",
        "\n",
        "Valence is the only observation with no outliers"
      ]
    },
    {
      "cell_type": "code",
      "metadata": {
        "id": "XJ4Qg2BU19ys",
        "colab_type": "code",
        "colab": {
          "base_uri": "https://localhost:8080/",
          "height": 282
        },
        "outputId": "74d6373d-fa4b-48e8-a371-83410551b89b"
      },
      "source": [
        "#Checking for outliers in the loudness continuous variable:\n",
        "df.boxplot(column =['loudness'], grid = False)"
      ],
      "execution_count": 53,
      "outputs": [
        {
          "output_type": "execute_result",
          "data": {
            "text/plain": [
              "<matplotlib.axes._subplots.AxesSubplot at 0x7f4193525978>"
            ]
          },
          "metadata": {
            "tags": []
          },
          "execution_count": 53
        },
        {
          "output_type": "display_data",
          "data": {
            "image/png": "[encoded data removed]",
            "text/plain": [
              "<Figure size 432x288 with 1 Axes>"
            ]
          },
          "metadata": {
            "tags": [],
            "needs_background": "light"
          }
        }
      ]
    },
    {
      "cell_type": "code",
      "metadata": {
        "id": "_RZDfcdl_D21",
        "colab_type": "code",
        "colab": {
          "base_uri": "https://localhost:8080/",
          "height": 283
        },
        "outputId": "90e98a8e-d0cf-43f8-ec49-7aeea4d97b15"
      },
      "source": [
        "#Checking for outliers in the track duration:\n",
        "df.boxplot(column =['duration_min'], grid = False)"
      ],
      "execution_count": 54,
      "outputs": [
        {
          "output_type": "execute_result",
          "data": {
            "text/plain": [
              "<matplotlib.axes._subplots.AxesSubplot at 0x7f4193435940>"
            ]
          },
          "metadata": {
            "tags": []
          },
          "execution_count": 54
        },
        {
          "output_type": "display_data",
          "data": {
            "image/png": "[encoded data removed]",
            "text/plain": [
              "<Figure size 432x288 with 1 Axes>"
            ]
          },
          "metadata": {
            "tags": [],
            "needs_background": "light"
          }
        }
      ]
    },
    {
      "cell_type": "markdown",
      "metadata": {
        "id": "cuENfl0axHlW",
        "colab_type": "text"
      },
      "source": [
        "The duration has outliers from both ends, but rather more on the right end."
      ]
    },
    {
      "cell_type": "code",
      "metadata": {
        "id": "RQZB7kaWIZEf",
        "colab_type": "code",
        "colab": {
          "base_uri": "https://localhost:8080/",
          "height": 283
        },
        "outputId": "8c044bd9-2fd4-4b93-f4eb-a0e9af28a011"
      },
      "source": [
        "#Finding otliers in track popularity:\n",
        "df.boxplot(column =['track_popularity'], grid = False)"
      ],
      "execution_count": 55,
      "outputs": [
        {
          "output_type": "execute_result",
          "data": {
            "text/plain": [
              "<matplotlib.axes._subplots.AxesSubplot at 0x7f41933f32e8>"
            ]
          },
          "metadata": {
            "tags": []
          },
          "execution_count": 55
        },
        {
          "output_type": "display_data",
          "data": {
            "image/png": "[encoded data removed]",
            "text/plain": [
              "<Figure size 432x288 with 1 Axes>"
            ]
          },
          "metadata": {
            "tags": [],
            "needs_background": "light"
          }
        }
      ]
    },
    {
      "cell_type": "markdown",
      "metadata": {
        "id": "rJRTwq2xxiai",
        "colab_type": "text"
      },
      "source": [
        "There were no outliers in the song popularity indicating that there were no instances of a song being extremely popular or extremely inpopular or rather not listened to."
      ]
    },
    {
      "cell_type": "markdown",
      "metadata": {
        "id": "1BHM04DeKa3k",
        "colab_type": "text"
      },
      "source": [
        "#Questions"
      ]
    },
    {
      "cell_type": "markdown",
      "metadata": {
        "id": "58x9CgLwJutD",
        "colab_type": "text"
      },
      "source": [
        "1. How are the track observations distributed over the years?"
      ]
    },
    {
      "cell_type": "code",
      "metadata": {
        "id": "hXo5Z1KXOxjg",
        "colab_type": "code",
        "colab": {
          "base_uri": "https://localhost:8080/",
          "height": 1000
        },
        "outputId": "c46fb20c-6f82-43d8-a6fa-1813ecc40ec7"
      },
      "source": [
        "#finding the distribution of the observations in the data set\n",
        "df.hist(figsize=(15,15))"
      ],
      "execution_count": 56,
      "outputs": [
        {
          "output_type": "execute_result",
          "data": {
            "text/plain": [
              "array([[<matplotlib.axes._subplots.AxesSubplot object at 0x7f419337e4e0>,\n",
              "        <matplotlib.axes._subplots.AxesSubplot object at 0x7f419333f2e8>,\n",
              "        <matplotlib.axes._subplots.AxesSubplot object at 0x7f419336a550>,\n",
              "        <matplotlib.axes._subplots.AxesSubplot object at 0x7f419381e7b8>],\n",
              "       [<matplotlib.axes._subplots.AxesSubplot object at 0x7f41937cca20>,\n",
              "        <matplotlib.axes._subplots.AxesSubplot object at 0x7f418c724c88>,\n",
              "        <matplotlib.axes._subplots.AxesSubplot object at 0x7f418c705ef0>,\n",
              "        <matplotlib.axes._subplots.AxesSubplot object at 0x7f418c74d160>],\n",
              "       [<matplotlib.axes._subplots.AxesSubplot object at 0x7f418c74d1d0>,\n",
              "        <matplotlib.axes._subplots.AxesSubplot object at 0x7f418c873668>,\n",
              "        <matplotlib.axes._subplots.AxesSubplot object at 0x7f418c7db8d0>,\n",
              "        <matplotlib.axes._subplots.AxesSubplot object at 0x7f418c7c4b38>],\n",
              "       [<matplotlib.axes._subplots.AxesSubplot object at 0x7f418c80fda0>,\n",
              "        <matplotlib.axes._subplots.AxesSubplot object at 0x7f41eeefdfd0>,\n",
              "        <matplotlib.axes._subplots.AxesSubplot object at 0x7f41eeec2e10>,\n",
              "        <matplotlib.axes._subplots.AxesSubplot object at 0x7f4191ea0518>]],\n",
              "      dtype=object)"
            ]
          },
          "metadata": {
            "tags": []
          },
          "execution_count": 56
        },
        {
          "output_type": "display_data",
          "data": {
            "image/png": "[encoded data removed]",
            "text/plain": [
              "<Figure size 1080x1080 with 16 Axes>"
            ]
          },
          "metadata": {
            "tags": [],
            "needs_background": "light"
          }
        }
      ]
    },
    {
      "cell_type": "markdown",
      "metadata": {
        "id": "rwV40irVFfFB",
        "colab_type": "text"
      },
      "source": [
        "These distribution graphs go ahead to prove the observations in from the boxplots."
      ]
    },
    {
      "cell_type": "markdown",
      "metadata": {
        "id": "nDzwpYN8J6bK",
        "colab_type": "text"
      },
      "source": [
        "2. How are these variables related to track popularity?"
      ]
    },
    {
      "cell_type": "code",
      "metadata": {
        "id": "aSx3_YB4uOz0",
        "colab_type": "code",
        "colab": {
          "base_uri": "https://localhost:8080/",
          "height": 534
        },
        "outputId": "91048f66-48e9-41c3-df78-cda3f271c619"
      },
      "source": [
        "#Checked for the relationship between the various varaibles.\n",
        "#This was done with a correlation co-efficient \n",
        "spotify.corr()"
      ],
      "execution_count": 70,
      "outputs": [
        {
          "output_type": "execute_result",
          "data": {
            "text/html": [
              "<div>\n",
              "<style scoped>\n",
              "    .dataframe tbody tr th:only-of-type {\n",
              "        vertical-align: middle;\n",
              "    }\n",
              "\n",
              "    .dataframe tbody tr th {\n",
              "        vertical-align: top;\n",
              "    }\n",
              "\n",
              "    .dataframe thead th {\n",
              "        text-align: right;\n",
              "    }\n",
              "</style>\n",
              "<table border=\"1\" class=\"dataframe\">\n",
              "  <thead>\n",
              "    <tr style=\"text-align: right;\">\n",
              "      <th></th>\n",
              "      <th>track_popularity</th>\n",
              "      <th>danceability</th>\n",
              "      <th>energy</th>\n",
              "      <th>key</th>\n",
              "      <th>loudness</th>\n",
              "      <th>mode</th>\n",
              "      <th>speechiness</th>\n",
              "      <th>acousticness</th>\n",
              "      <th>instrumentalness</th>\n",
              "      <th>liveness</th>\n",
              "      <th>valence</th>\n",
              "      <th>tempo</th>\n",
              "      <th>year</th>\n",
              "      <th>month</th>\n",
              "      <th>duration_min</th>\n",
              "    </tr>\n",
              "  </thead>\n",
              "  <tbody>\n",
              "    <tr>\n",
              "      <th>track_popularity</th>\n",
              "      <td>1.000000</td>\n",
              "      <td>0.046725</td>\n",
              "      <td>-0.103579</td>\n",
              "      <td>-0.008224</td>\n",
              "      <td>0.037248</td>\n",
              "      <td>0.016402</td>\n",
              "      <td>0.005228</td>\n",
              "      <td>0.091759</td>\n",
              "      <td>-0.124229</td>\n",
              "      <td>-0.052800</td>\n",
              "      <td>0.022606</td>\n",
              "      <td>0.004524</td>\n",
              "      <td>0.044701</td>\n",
              "      <td>0.080462</td>\n",
              "      <td>-0.139600</td>\n",
              "    </tr>\n",
              "    <tr>\n",
              "      <th>danceability</th>\n",
              "      <td>0.046725</td>\n",
              "      <td>1.000000</td>\n",
              "      <td>-0.081390</td>\n",
              "      <td>0.007141</td>\n",
              "      <td>0.015398</td>\n",
              "      <td>-0.055220</td>\n",
              "      <td>0.183526</td>\n",
              "      <td>-0.028912</td>\n",
              "      <td>-0.002332</td>\n",
              "      <td>-0.127077</td>\n",
              "      <td>0.333749</td>\n",
              "      <td>-0.184689</td>\n",
              "      <td>0.144115</td>\n",
              "      <td>0.047353</td>\n",
              "      <td>-0.087591</td>\n",
              "    </tr>\n",
              "    <tr>\n",
              "      <th>energy</th>\n",
              "      <td>-0.103579</td>\n",
              "      <td>-0.081390</td>\n",
              "      <td>1.000000</td>\n",
              "      <td>0.012862</td>\n",
              "      <td>0.682183</td>\n",
              "      <td>-0.004443</td>\n",
              "      <td>-0.029114</td>\n",
              "      <td>-0.545893</td>\n",
              "      <td>0.023706</td>\n",
              "      <td>0.163670</td>\n",
              "      <td>0.149799</td>\n",
              "      <td>0.151447</td>\n",
              "      <td>0.050180</td>\n",
              "      <td>-0.022456</td>\n",
              "      <td>0.017484</td>\n",
              "    </tr>\n",
              "    <tr>\n",
              "      <th>key</th>\n",
              "      <td>-0.008224</td>\n",
              "      <td>0.007141</td>\n",
              "      <td>0.012862</td>\n",
              "      <td>1.000000</td>\n",
              "      <td>-0.000580</td>\n",
              "      <td>-0.176271</td>\n",
              "      <td>0.023095</td>\n",
              "      <td>0.004106</td>\n",
              "      <td>0.007506</td>\n",
              "      <td>0.002083</td>\n",
              "      <td>0.021493</td>\n",
              "      <td>-0.010409</td>\n",
              "      <td>0.001085</td>\n",
              "      <td>0.002784</td>\n",
              "      <td>0.018884</td>\n",
              "    </tr>\n",
              "    <tr>\n",
              "      <th>loudness</th>\n",
              "      <td>0.037248</td>\n",
              "      <td>0.015398</td>\n",
              "      <td>0.682183</td>\n",
              "      <td>-0.000580</td>\n",
              "      <td>1.000000</td>\n",
              "      <td>-0.017705</td>\n",
              "      <td>0.012954</td>\n",
              "      <td>-0.371615</td>\n",
              "      <td>-0.154310</td>\n",
              "      <td>0.081933</td>\n",
              "      <td>0.049557</td>\n",
              "      <td>0.096706</td>\n",
              "      <td>0.285339</td>\n",
              "      <td>0.044629</td>\n",
              "      <td>-0.104578</td>\n",
              "    </tr>\n",
              "    <tr>\n",
              "      <th>mode</th>\n",
              "      <td>0.016402</td>\n",
              "      <td>-0.055220</td>\n",
              "      <td>-0.004443</td>\n",
              "      <td>-0.176271</td>\n",
              "      <td>-0.017705</td>\n",
              "      <td>1.000000</td>\n",
              "      <td>-0.059698</td>\n",
              "      <td>0.006702</td>\n",
              "      <td>-0.005894</td>\n",
              "      <td>-0.000345</td>\n",
              "      <td>-0.003195</td>\n",
              "      <td>0.016533</td>\n",
              "      <td>-0.087368</td>\n",
              "      <td>-0.028118</td>\n",
              "      <td>0.012754</td>\n",
              "    </tr>\n",
              "    <tr>\n",
              "      <th>speechiness</th>\n",
              "      <td>0.005228</td>\n",
              "      <td>0.183526</td>\n",
              "      <td>-0.029114</td>\n",
              "      <td>0.023095</td>\n",
              "      <td>0.012954</td>\n",
              "      <td>-0.059698</td>\n",
              "      <td>1.000000</td>\n",
              "      <td>0.024970</td>\n",
              "      <td>-0.107981</td>\n",
              "      <td>0.059311</td>\n",
              "      <td>0.064720</td>\n",
              "      <td>0.032702</td>\n",
              "      <td>0.105920</td>\n",
              "      <td>0.021417</td>\n",
              "      <td>-0.098476</td>\n",
              "    </tr>\n",
              "    <tr>\n",
              "      <th>acousticness</th>\n",
              "      <td>0.091759</td>\n",
              "      <td>-0.028912</td>\n",
              "      <td>-0.545893</td>\n",
              "      <td>0.004106</td>\n",
              "      <td>-0.371615</td>\n",
              "      <td>0.006702</td>\n",
              "      <td>0.024970</td>\n",
              "      <td>1.000000</td>\n",
              "      <td>-0.003029</td>\n",
              "      <td>-0.074556</td>\n",
              "      <td>-0.019117</td>\n",
              "      <td>-0.114362</td>\n",
              "      <td>0.008080</td>\n",
              "      <td>0.028500</td>\n",
              "      <td>-0.094093</td>\n",
              "    </tr>\n",
              "    <tr>\n",
              "      <th>instrumentalness</th>\n",
              "      <td>-0.124229</td>\n",
              "      <td>-0.002332</td>\n",
              "      <td>0.023706</td>\n",
              "      <td>0.007506</td>\n",
              "      <td>-0.154310</td>\n",
              "      <td>-0.005894</td>\n",
              "      <td>-0.107981</td>\n",
              "      <td>-0.003029</td>\n",
              "      <td>1.000000</td>\n",
              "      <td>-0.008435</td>\n",
              "      <td>-0.174141</td>\n",
              "      <td>0.021432</td>\n",
              "      <td>0.098642</td>\n",
              "      <td>0.048524</td>\n",
              "      <td>0.058883</td>\n",
              "    </tr>\n",
              "    <tr>\n",
              "      <th>liveness</th>\n",
              "      <td>-0.052800</td>\n",
              "      <td>-0.127077</td>\n",
              "      <td>0.163670</td>\n",
              "      <td>0.002083</td>\n",
              "      <td>0.081933</td>\n",
              "      <td>-0.000345</td>\n",
              "      <td>0.059311</td>\n",
              "      <td>-0.074556</td>\n",
              "      <td>-0.008435</td>\n",
              "      <td>1.000000</td>\n",
              "      <td>-0.020005</td>\n",
              "      <td>0.021898</td>\n",
              "      <td>-0.017935</td>\n",
              "      <td>-0.020885</td>\n",
              "      <td>0.007618</td>\n",
              "    </tr>\n",
              "    <tr>\n",
              "      <th>valence</th>\n",
              "      <td>0.022606</td>\n",
              "      <td>0.333749</td>\n",
              "      <td>0.149799</td>\n",
              "      <td>0.021493</td>\n",
              "      <td>0.049557</td>\n",
              "      <td>-0.003195</td>\n",
              "      <td>0.064720</td>\n",
              "      <td>-0.019117</td>\n",
              "      <td>-0.174141</td>\n",
              "      <td>-0.020005</td>\n",
              "      <td>1.000000</td>\n",
              "      <td>-0.025185</td>\n",
              "      <td>-0.224732</td>\n",
              "      <td>-0.089039</td>\n",
              "      <td>-0.033278</td>\n",
              "    </tr>\n",
              "    <tr>\n",
              "      <th>tempo</th>\n",
              "      <td>0.004524</td>\n",
              "      <td>-0.184689</td>\n",
              "      <td>0.151447</td>\n",
              "      <td>-0.010409</td>\n",
              "      <td>0.096706</td>\n",
              "      <td>0.016533</td>\n",
              "      <td>0.032702</td>\n",
              "      <td>-0.114362</td>\n",
              "      <td>0.021432</td>\n",
              "      <td>0.021898</td>\n",
              "      <td>-0.025185</td>\n",
              "      <td>1.000000</td>\n",
              "      <td>0.025067</td>\n",
              "      <td>0.012260</td>\n",
              "      <td>-0.001694</td>\n",
              "    </tr>\n",
              "    <tr>\n",
              "      <th>year</th>\n",
              "      <td>0.044701</td>\n",
              "      <td>0.144115</td>\n",
              "      <td>0.050180</td>\n",
              "      <td>0.001085</td>\n",
              "      <td>0.285339</td>\n",
              "      <td>-0.087368</td>\n",
              "      <td>0.105920</td>\n",
              "      <td>0.008080</td>\n",
              "      <td>0.098642</td>\n",
              "      <td>-0.017935</td>\n",
              "      <td>-0.224732</td>\n",
              "      <td>0.025067</td>\n",
              "      <td>1.000000</td>\n",
              "      <td>0.238434</td>\n",
              "      <td>-0.311725</td>\n",
              "    </tr>\n",
              "    <tr>\n",
              "      <th>month</th>\n",
              "      <td>0.080462</td>\n",
              "      <td>0.047353</td>\n",
              "      <td>-0.022456</td>\n",
              "      <td>0.002784</td>\n",
              "      <td>0.044629</td>\n",
              "      <td>-0.028118</td>\n",
              "      <td>0.021417</td>\n",
              "      <td>0.028500</td>\n",
              "      <td>0.048524</td>\n",
              "      <td>-0.020885</td>\n",
              "      <td>-0.089039</td>\n",
              "      <td>0.012260</td>\n",
              "      <td>0.238434</td>\n",
              "      <td>1.000000</td>\n",
              "      <td>-0.118294</td>\n",
              "    </tr>\n",
              "    <tr>\n",
              "      <th>duration_min</th>\n",
              "      <td>-0.139600</td>\n",
              "      <td>-0.087591</td>\n",
              "      <td>0.017484</td>\n",
              "      <td>0.018884</td>\n",
              "      <td>-0.104578</td>\n",
              "      <td>0.012754</td>\n",
              "      <td>-0.098476</td>\n",
              "      <td>-0.094093</td>\n",
              "      <td>0.058883</td>\n",
              "      <td>0.007618</td>\n",
              "      <td>-0.033278</td>\n",
              "      <td>-0.001694</td>\n",
              "      <td>-0.311725</td>\n",
              "      <td>-0.118294</td>\n",
              "      <td>1.000000</td>\n",
              "    </tr>\n",
              "  </tbody>\n",
              "</table>\n",
              "</div>"
            ],
            "text/plain": [
              "                  track_popularity  danceability  ...     month  duration_min\n",
              "track_popularity          1.000000      0.046725  ...  0.080462     -0.139600\n",
              "danceability              0.046725      1.000000  ...  0.047353     -0.087591\n",
              "energy                   -0.103579     -0.081390  ... -0.022456      0.017484\n",
              "key                      -0.008224      0.007141  ...  0.002784      0.018884\n",
              "loudness                  0.037248      0.015398  ...  0.044629     -0.104578\n",
              "mode                      0.016402     -0.055220  ... -0.028118      0.012754\n",
              "speechiness               0.005228      0.183526  ...  0.021417     -0.098476\n",
              "acousticness              0.091759     -0.028912  ...  0.028500     -0.094093\n",
              "instrumentalness         -0.124229     -0.002332  ...  0.048524      0.058883\n",
              "liveness                 -0.052800     -0.127077  ... -0.020885      0.007618\n",
              "valence                   0.022606      0.333749  ... -0.089039     -0.033278\n",
              "tempo                     0.004524     -0.184689  ...  0.012260     -0.001694\n",
              "year                      0.044701      0.144115  ...  0.238434     -0.311725\n",
              "month                     0.080462      0.047353  ...  1.000000     -0.118294\n",
              "duration_min             -0.139600     -0.087591  ... -0.118294      1.000000\n",
              "\n",
              "[15 rows x 15 columns]"
            ]
          },
          "metadata": {
            "tags": []
          },
          "execution_count": 70
        }
      ]
    },
    {
      "cell_type": "markdown",
      "metadata": {
        "id": "aRwzUuv5UqJh",
        "colab_type": "text"
      },
      "source": [
        "None of the variables had a corelation co-efficients above or even close to +/-0.5 to the track_popularity. Therefor none are worth mentioning\n",
        "\n",
        "This shows that none of the variables are significantly proportional to track_popularity, that is; track popularity cannot be defined solely on a particular variable but a number or rather a combination of them.\n",
        "\n",
        "From here on the analysis will focus on those with a co-efficient of 0.1 or close to that:\n",
        "\n",
        "\n",
        "*   acousticness with a corelation co-efficient of 0.091759\n",
        "*   months with 0.080462\n",
        "*   energy with -0.103579\n",
        "*   instrumentalness with -0.124229\n",
        "*   duration_min with -0.139600\n",
        "\n",
        "\n",
        "\n",
        "\n",
        "\n"
      ]
    },
    {
      "cell_type": "markdown",
      "metadata": {
        "id": "yn0OiQKDJbdu",
        "colab_type": "text"
      },
      "source": [
        "2. Virtually, how does acousticness affect the track_popularity?"
      ]
    },
    {
      "cell_type": "code",
      "metadata": {
        "id": "rbNS6v4M9JIh",
        "colab_type": "code",
        "colab": {
          "base_uri": "https://localhost:8080/",
          "height": 297
        },
        "outputId": "8f2ddf2a-8291-4f66-d7a3-37db3715bf18"
      },
      "source": [
        "#Done with scatter plot\n",
        "spotify.plot(x = 'track_popularity', y = 'acousticness', style = 'o')\n",
        "plt.xlabel('track_popularity')\n",
        "plt.ylabel('acousticness')\n",
        "plt.show"
      ],
      "execution_count": 89,
      "outputs": [
        {
          "output_type": "execute_result",
          "data": {
            "text/plain": [
              "<function matplotlib.pyplot.show>"
            ]
          },
          "metadata": {
            "tags": []
          },
          "execution_count": 89
        },
        {
          "output_type": "display_data",
          "data": {
            "image/png": "[encoded data removed]",
            "text/plain": [
              "<Figure size 432x288 with 1 Axes>"
            ]
          },
          "metadata": {
            "tags": [],
            "needs_background": "light"
          }
        }
      ]
    },
    {
      "cell_type": "markdown",
      "metadata": {
        "id": "EEDOHaCJLWVl",
        "colab_type": "text"
      },
      "source": [
        "3. Virtually, how does energy of a track affect its popularity?"
      ]
    },
    {
      "cell_type": "code",
      "metadata": {
        "id": "tAI__XLc8Sw3",
        "colab_type": "code",
        "colab": {
          "base_uri": "https://localhost:8080/",
          "height": 297
        },
        "outputId": "da198fec-d883-4184-f90e-0afb6031cb53"
      },
      "source": [
        "#Plotting energy against popularity\n",
        "spotify.plot(x = 'track_popularity', y = 'energy', style = 'o')\n",
        "plt.xlabel('track_popularity')\n",
        "plt.ylabel('energy')\n",
        "plt.show"
      ],
      "execution_count": 91,
      "outputs": [
        {
          "output_type": "execute_result",
          "data": {
            "text/plain": [
              "<function matplotlib.pyplot.show>"
            ]
          },
          "metadata": {
            "tags": []
          },
          "execution_count": 91
        },
        {
          "output_type": "display_data",
          "data": {
            "image/png": "[encoded data removed]",
            "text/plain": [
              "<Figure size 432x288 with 1 Axes>"
            ]
          },
          "metadata": {
            "tags": [],
            "needs_background": "light"
          }
        }
      ]
    },
    {
      "cell_type": "markdown",
      "metadata": {
        "id": "iuD2qxoOcKg9",
        "colab_type": "text"
      },
      "source": [
        "4. Virtually, how does instrumentalness affect track popularity?"
      ]
    },
    {
      "cell_type": "code",
      "metadata": {
        "id": "GtoWC1lhbzOq",
        "colab_type": "code",
        "colab": {
          "base_uri": "https://localhost:8080/",
          "height": 297
        },
        "outputId": "93eadd7c-3cea-4fe9-ebf7-efdc5a083355"
      },
      "source": [
        "spotify.plot(x = 'track_popularity', y = 'instrumentalness', style = 'o')\n",
        "plt.xlabel('track_popularity')\n",
        "plt.ylabel('instrumentalness')\n",
        "plt.show"
      ],
      "execution_count": 92,
      "outputs": [
        {
          "output_type": "execute_result",
          "data": {
            "text/plain": [
              "<function matplotlib.pyplot.show>"
            ]
          },
          "metadata": {
            "tags": []
          },
          "execution_count": 92
        },
        {
          "output_type": "display_data",
          "data": {
            "image/png": "[encoded data removed]",
            "text/plain": [
              "<Figure size 432x288 with 1 Axes>"
            ]
          },
          "metadata": {
            "tags": [],
            "needs_background": "light"
          }
        }
      ]
    },
    {
      "cell_type": "markdown",
      "metadata": {
        "id": "rpj0NBvVcVcS",
        "colab_type": "text"
      },
      "source": [
        "From the scatter plot it is clear that tracks with really low instrumentalness dominate the top most popular positions with only a few being popular with high instrumentalness"
      ]
    },
    {
      "cell_type": "markdown",
      "metadata": {
        "id": "jEv4L7tSI8PD",
        "colab_type": "text"
      },
      "source": [
        "   4 (a) Which month had the most track releases over the years?"
      ]
    },
    {
      "cell_type": "code",
      "metadata": {
        "id": "vq61WTdYHCER",
        "colab_type": "code",
        "colab": {
          "base_uri": "https://localhost:8080/",
          "height": 102
        },
        "outputId": "7f09422f-551e-4a55-a29f-be043782e49b"
      },
      "source": [
        "monthly_tracks = spotify['track_name'].groupby([spotify['month']]).count().sort_values(ascending=False)\n",
        "monthly_tracks[:3]"
      ],
      "execution_count": 82,
      "outputs": [
        {
          "output_type": "execute_result",
          "data": {
            "text/plain": [
              "month\n",
              "1     6137\n",
              "11    2875\n",
              "10    2611\n",
              "Name: track_name, dtype: int64"
            ]
          },
          "metadata": {
            "tags": []
          },
          "execution_count": 82
        }
      ]
    },
    {
      "cell_type": "markdown",
      "metadata": {
        "id": "BadN0ybnJHOk",
        "colab_type": "text"
      },
      "source": [
        " (b) Which month had the most popular (above 50) track releases over the years?"
      ]
    },
    {
      "cell_type": "code",
      "metadata": {
        "id": "CmCg2W8BLDOd",
        "colab_type": "code",
        "colab": {
          "base_uri": "https://localhost:8080/",
          "height": 102
        },
        "outputId": "8f3d58f1-5def-41f6-eae9-7849dcea2b9d"
      },
      "source": [
        "month_of_pops = spotify[(spotify.track_popularity>50)].groupby('month')['track_name'].count().sort_values(ascending = False)\n",
        "month_of_pops[:3]"
      ],
      "execution_count": 81,
      "outputs": [
        {
          "output_type": "execute_result",
          "data": {
            "text/plain": [
              "month\n",
              "1     2101\n",
              "11    1141\n",
              "10    1030\n",
              "Name: track_name, dtype: int64"
            ]
          },
          "metadata": {
            "tags": []
          },
          "execution_count": 81
        }
      ]
    },
    {
      "cell_type": "markdown",
      "metadata": {
        "id": "CT4sNen_PTYF",
        "colab_type": "text"
      },
      "source": [
        "The months are in the same order as those with many track releases over the years"
      ]
    },
    {
      "cell_type": "markdown",
      "metadata": {
        "id": "nYQvVHYlKyo7",
        "colab_type": "text"
      },
      "source": [
        " (C) Virtually, how does the month of track release affect the track_popularity?"
      ]
    },
    {
      "cell_type": "code",
      "metadata": {
        "id": "ybKY3u2d9JqT",
        "colab_type": "code",
        "colab": {
          "base_uri": "https://localhost:8080/",
          "height": 297
        },
        "outputId": "b9535211-5487-48b3-891d-9b94ce5997ef"
      },
      "source": [
        "#Finding whether and how month of track release affects the track_popularity\n",
        "spotify.plot(x = 'track_popularity', y = 'month', style = 'o')\n",
        "plt.xlabel('track_popularity')\n",
        "plt.ylabel('month')\n",
        "plt.show"
      ],
      "execution_count": null,
      "outputs": [
        {
          "output_type": "execute_result",
          "data": {
            "text/plain": [
              "<function matplotlib.pyplot.show>"
            ]
          },
          "metadata": {
            "tags": []
          },
          "execution_count": 77
        },
        {
          "output_type": "display_data",
          "data": {
            "image/png": "[encoded data removed]",
            "text/plain": [
              "<Figure size 432x288 with 1 Axes>"
            ]
          },
          "metadata": {
            "tags": [],
            "needs_background": "light"
          }
        }
      ]
    },
    {
      "cell_type": "markdown",
      "metadata": {
        "id": "mwpOHODhP0GA",
        "colab_type": "text"
      },
      "source": [
        "From the scatter plot above, the month of track release doesn't seem to affect its popularity. \n",
        "\n",
        "Though it would be nice to note that the month of October(10) has a continuous number of popular track releases(having a popularity of above 90) while March(3) has only one and April(4) none."
      ]
    },
    {
      "cell_type": "markdown",
      "metadata": {
        "id": "AYrZgK9fLg_9",
        "colab_type": "text"
      },
      "source": [
        "5. Virtually, how does the duration of a track affect its popularity?"
      ]
    },
    {
      "cell_type": "code",
      "metadata": {
        "id": "xTueFIeH9lda",
        "colab_type": "code",
        "colab": {
          "base_uri": "https://localhost:8080/",
          "height": 297
        },
        "outputId": "ce24dd89-90fe-438c-d6c3-38abb29b2a9b"
      },
      "source": [
        "#Finding out whether and how track duration affects tack popularity\n",
        "spotify.plot(x = 'track_popularity', y = 'duration_min', style = 'o')\n",
        "plt.xlabel('track_popularity')\n",
        "plt.ylabel('track_duration')\n",
        "plt.show"
      ],
      "execution_count": 75,
      "outputs": [
        {
          "output_type": "execute_result",
          "data": {
            "text/plain": [
              "<function matplotlib.pyplot.show>"
            ]
          },
          "metadata": {
            "tags": []
          },
          "execution_count": 75
        },
        {
          "output_type": "display_data",
          "data": {
            "image/png": "[encoded data removed]",
            "text/plain": [
              "<Figure size 432x288 with 1 Axes>"
            ]
          },
          "metadata": {
            "tags": [],
            "needs_background": "light"
          }
        }
      ]
    },
    {
      "cell_type": "markdown",
      "metadata": {
        "id": "wqZwqP66RK6_",
        "colab_type": "text"
      },
      "source": [
        "From the scatter plot above it is safe to say that the duration of the track affects it's popularity to some extent:\n",
        "\n",
        "This is because towards high popularity index the scatter plots tend to come together around the 3 minutes mark.Though it is not a guarantee that a track at around 3 minutes will have high popularity, it is a good starting point.\n",
        "\n",
        "It is also nice to note that the tracks highly close to the zero mark are more likely to be less popular.\n",
        "\n"
      ]
    },
    {
      "cell_type": "markdown",
      "metadata": {
        "id": "-x_kxCSZMtDf",
        "colab_type": "text"
      },
      "source": [
        "(b) What is the average duration of most popular tracks?"
      ]
    },
    {
      "cell_type": "code",
      "metadata": {
        "id": "ikxBnqJuMyw1",
        "colab_type": "code",
        "colab": {
          "base_uri": "https://localhost:8080/",
          "height": 238
        },
        "outputId": "f70be25f-1722-45f1-f629-a96ce95bf9c2"
      },
      "source": [
        "avg_duration_of_pops = spotify[(spotify.track_popularity>50)].groupby('duration_min')['track_name'].count().sort_values(ascending = False)\n",
        "avg_duration_of_pops"
      ],
      "execution_count": 88,
      "outputs": [
        {
          "output_type": "execute_result",
          "data": {
            "text/plain": [
              "duration_min\n",
              "2.666667    10\n",
              "4.000000     9\n",
              "3.500000     8\n",
              "3.250000     8\n",
              "3.066667     8\n",
              "            ..\n",
              "3.861117     1\n",
              "3.861267     1\n",
              "3.861333     1\n",
              "3.861350     1\n",
              "1.113100     1\n",
              "Name: track_name, Length: 8699, dtype: int64"
            ]
          },
          "metadata": {
            "tags": []
          },
          "execution_count": 88
        }
      ]
    },
    {
      "cell_type": "markdown",
      "metadata": {
        "id": "wy6mhcNnTr8z",
        "colab_type": "text"
      },
      "source": [
        "with most popular tracks having a duration of 2.7 minutes followed by 4.0, 3.5, 3.3 and 3.1 The observation made earlier stands"
      ]
    },
    {
      "cell_type": "markdown",
      "metadata": {
        "id": "C59pPG559j7x",
        "colab_type": "text"
      },
      "source": [
        "# Conclusion"
      ]
    },
    {
      "cell_type": "markdown",
      "metadata": {
        "id": "ejJ-HTTTd-eX",
        "colab_type": "text"
      },
      "source": [
        "\n",
        "\n",
        "1.   Track popularity does not rely on one variable but rather it is affected by a number of factors.\n",
        "2.   The factors that affect track popularity are not straight forward but do contain a number of outliers.\n",
        "\n"
      ]
    },
    {
      "cell_type": "markdown",
      "metadata": {
        "id": "ow6Yudoq9nrY",
        "colab_type": "text"
      },
      "source": [
        "# Reccomendations and Next step"
      ]
    },
    {
      "cell_type": "markdown",
      "metadata": {
        "id": "uEzQ1fxKdSUp",
        "colab_type": "text"
      },
      "source": [
        "\n",
        "\n",
        "1.   The model to predict popular tracks should incorporate the varaibles that showed meaningful relationship with track popularity\n",
        "\n"
      ]
    },
    {
      "cell_type": "markdown",
      "metadata": {
        "id": "VnteXHWQedpy",
        "colab_type": "text"
      },
      "source": [
        "The next step would be to build a model that predicts track popularity.\n",
        "\n",
        "Before then it would be nice to go through the analysis using other visualizaton methods to probably get a better understanding of the varaibles.\n",
        "\n",
        "Later another one to segment track to identify whether there is a new genre."
      ]
    }
  ]
}